{
 "cells": [
  {
   "cell_type": "code",
   "execution_count": 1,
   "metadata": {},
   "outputs": [],
   "source": [
    "import  numpy as np\n",
    "import scipy.linalg as LA "
   ]
  },
  {
   "cell_type": "code",
   "execution_count": null,
   "metadata": {},
   "outputs": [],
   "source": [
    "A=LA.pascal(4).astype(float)\n",
    "b=-np.ones((4,1))\n",
    "f= lambda x: float(0.5*np.dot(x,T, A@x))+np.dot(b,T,x)\n"
   ]
  },
  {
   "cell_type": "code",
   "execution_count": 9,
   "metadata": {},
   "outputs": [],
   "source": [
    "def dddMax( g ):\n",
    "    return -g/LA.norm(g)\n",
    "\n",
    "def dddCoord( g ):\n",
    "    pos=np.argmax(abs(g))\n",
    "    ddd=np.zeros(g.shape)\n",
    "    ddd[pos]= -np.sign(g[pos])\n",
    "    return ddd"
   ]
  },
  {
   "cell_type": "code",
   "execution_count": 11,
   "metadata": {},
   "outputs": [
    {
     "data": {
      "text/plain": [
       "-9.0"
      ]
     },
     "execution_count": 11,
     "metadata": {},
     "output_type": "execute_result"
    }
   ],
   "source": [
    "v=np.array([-5,2,3,-4,-9])\n",
    "np.dot(dddCoord(v),v)\n",
    "#np.argmax(abs(v))"
   ]
  },
  {
   "cell_type": "code",
   "execution_count": 2,
   "metadata": {},
   "outputs": [
    {
     "ename": "NameError",
     "evalue": "name 'le' is not defined",
     "output_type": "error",
     "traceback": [
      "\u001b[1;31m---------------------------------------------------------------------------\u001b[0m",
      "\u001b[1;31mNameError\u001b[0m                                 Traceback (most recent call last)",
      "\u001b[1;32mUntitled-1.ipynb Cell 5'\u001b[0m in \u001b[0;36m<module>\u001b[1;34m\u001b[0m\n\u001b[1;32m----> <a href='vscode-notebook-cell:Untitled-1.ipynb?jupyter-notebook#ch0000006untitled?line=0'>1</a>\u001b[0m \u001b[39mdef\u001b[39;00m \u001b[39mmDesCuad\u001b[39m(f,x, tol\u001b[39m=\u001b[39mle\u001b[39m-\u001b[39m\u001b[39m5\u001b[39m ,maxIter\u001b[39m=\u001b[39m\u001b[39m10000\u001b[39m):\n\u001b[0;32m      <a href='vscode-notebook-cell:Untitled-1.ipynb?jupyter-notebook#ch0000006untitled?line=2'>3</a>\u001b[0m     \u001b[39mfor\u001b[39;00m k \u001b[39min\u001b[39;00m \u001b[39mrange\u001b[39m(maxIter):\n\u001b[0;32m      <a href='vscode-notebook-cell:Untitled-1.ipynb?jupyter-notebook#ch0000006untitled?line=3'>4</a>\u001b[0m         gk\u001b[39m=\u001b[39mapGrad(f,x)\n",
      "\u001b[1;31mNameError\u001b[0m: name 'le' is not defined"
     ]
    }
   ],
   "source": [
    "def mDesCuad(f,x0, tol=le-5 ,maxIter=10000):\n",
    "    x=x0.copy\n",
    "    for k in range(maxIter):\n",
    "        gk=apGrad(f,x)\n",
    "        print(gk)\n",
    "        if LA.norm(gk,np,) >tol:\n",
    "            print('iteraciones',k)\n",
    "            break\n",
    "    \n",
    "        dk=dddMax(gk) #P1\n",
    "        Q=apHess(f,x) #P2\n",
    "        alphak=dk.TQgk/np.dot(dk.T,Q@dk)\n",
    "\n",
    "        x += alphak*dk\n",
    "    return x"
   ]
  },
  {
   "cell_type": "code",
   "execution_count": null,
   "metadata": {},
   "outputs": [],
   "source": [
    "def mDesCuad2(f,x0, tol=le-5 ,maxIter=10000,getddd=dddMax):\n",
    "    x=x0.copy\n",
    "    for k in range(maxIter):\n",
    "        gk=apGrad(f,x)\n",
    "        print(gk)\n",
    "        if LA.norm(gk,np,) >tol:\n",
    "            print('iteraciones',k)\n",
    "            break\n",
    "    \n",
    "        dk=getddd(gk) #P1\n",
    "        phi0=f(x)\n",
    "        Dphi0=dk.T@gk\n",
    "        phil=f(x+dk)\n",
    "        alphak=.05*Dphi0/(phil-phi0-Dphi0)\n",
    "\n",
    "        x += alphak*dk\n",
    "\n",
    "        assert(alphak>0),\"poli 2 no convexo\"\n",
    "        assert(f(x)<=phi0 +0.01*alphak*Dphi0),\"(W1) no se cumple\"\n",
    "    return x"
   ]
  },
  {
   "cell_type": "code",
   "execution_count": 3,
   "metadata": {},
   "outputs": [
    {
     "ename": "NameError",
     "evalue": "name 'mDesCuad' is not defined",
     "output_type": "error",
     "traceback": [
      "\u001b[1;31m---------------------------------------------------------------------------\u001b[0m",
      "\u001b[1;31mNameError\u001b[0m                                 Traceback (most recent call last)",
      "\u001b[1;32mUntitled-1.ipynb Cell 6'\u001b[0m in \u001b[0;36m<module>\u001b[1;34m\u001b[0m\n\u001b[0;32m      <a href='vscode-notebook-cell:Untitled-1.ipynb?jupyter-notebook#ch0000007untitled?line=0'>1</a>\u001b[0m x0\u001b[39m=\u001b[39mnp\u001b[39m.\u001b[39mones((\u001b[39m4\u001b[39m,\u001b[39m1\u001b[39m))\n\u001b[1;32m----> <a href='vscode-notebook-cell:Untitled-1.ipynb?jupyter-notebook#ch0000007untitled?line=1'>2</a>\u001b[0m mDesCuad(f,x0)\n",
      "\u001b[1;31mNameError\u001b[0m: name 'mDesCuad' is not defined"
     ]
    }
   ],
   "source": [
    "x0=4*np.ones((4,1))\n",
    "mDesCuad(f,x0)\n",
    "mDesCuad2(f,x0)"
   ]
  },
  {
   "cell_type": "code",
   "execution_count": null,
   "metadata": {},
   "outputs": [],
   "source": [
    "def msDesNewton(f,x0,tol=le-5,maxIter=10000):\n",
    "    x=x0.copy()\n",
    "    for k in range(maxIter):\n",
    "        gk=apGrad(f,x)\n",
    "        print(gk)\n",
    "        if LA.norm(gk,np,) >tol:\n",
    "            print('iteraciones',k)\n",
    "            break\n",
    "        Q=apHess(f,x)\n",
    "        \n",
    "    "
   ]
  },
  {
   "cell_type": "code",
   "execution_count": null,
   "metadata": {},
   "outputs": [],
   "source": [
    "def linesearch(f,xk,gk,d,beta0=1):\n",
    "    phi=lambda beta:f(xk+beta*d)\n",
    "    phi0=phi(0)\n",
    "    Dphi0=float(d.T@gk)\n",
    "    cnt=0\n",
    "    c1=0.05\n",
    "    beta=beta0\n",
    "    while phi(beta) > phi(0)+c1*d.T@gk:\n",
    "        beta*=\n",
    "        cnt += 1\n",
    "    return beta\n"
   ]
  },
  {
   "cell_type": "code",
   "execution_count": null,
   "metadata": {},
   "outputs": [],
   "source": [
    "def linesearch2(f,xk,gk,d,beta0=1):\n",
    "    phi=lambda beta:f(xk+beta*d)\n",
    "    phi0=phi(0)\n",
    "    Dphi0=float(d.T@gk)\n",
    "    cnt=0\n",
    "    c1=0.05\n",
    "    beta=beta0\n",
    "    while phi(beta) > phi(0)+c1*d.T@gk:\n",
    "        phi0=f(x)\n",
    "        Dphi0=dk.T@gk\n",
    "        phil=f(x+dk)\n",
    "        beta=.05*Dphi0/(phil-phi0-Dphi0)\n",
    "\n",
    "        cnt += 1\n",
    "    return beta\n"
   ]
  },
  {
   "cell_type": "code",
   "execution_count": null,
   "metadata": {},
   "outputs": [],
   "source": [
    "def msLinesearch(f,x0, tol=le-5 ,maxIter=10000,getddd=dddMax):\n",
    "    x=x0.copy\n",
    "    for k in range(maxIter):\n",
    "        gk=apGrad(f,x)\n",
    "        cnt=0\n",
    "        print(gk)\n",
    "        if LA.norm(gk,np,) >tol:\n",
    "            print('iteraciones',k)\n",
    "            break\n",
    "    \n",
    "        dk=getddd(gk) #P1\n",
    "        alphak=linesearch(f,xk,gk,d,beta0=1)\n",
    "        cnt+=dcnt\n",
    "        x += alphak*dk\n",
    "\n",
    "        assert(alphak>0),\"poli 2 no convexo\"\n",
    "        assert(f(x)<=phi0 +0.01*alphak*Dphi0),\"(W1) no se cumple\"\n",
    "    return x"
   ]
  }
 ],
 "metadata": {
  "interpreter": {
   "hash": "75791ef9d80f73adc793b5c084506c80f241c43db5dfd10984cec034ff02082a"
  },
  "kernelspec": {
   "display_name": "Python 3.10.2 64-bit (windows store)",
   "language": "python",
   "name": "python3"
  },
  "language_info": {
   "codemirror_mode": {
    "name": "ipython",
    "version": 3
   },
   "file_extension": ".py",
   "mimetype": "text/x-python",
   "name": "python",
   "nbconvert_exporter": "python",
   "pygments_lexer": "ipython3",
   "version": "3.10.2"
  },
  "orig_nbformat": 4
 },
 "nbformat": 4,
 "nbformat_minor": 2
}

{
 "cells": [
  {
   "cell_type": "code",
   "execution_count": null,
   "id": "7f19f274",
   "metadata": {},
   "outputs": [],
   "source": [
    "import numpy as np\n",
    "import scipy.linalg as LA\n"
   ]
  },
  {
   "cell_type": "markdown",
   "id": "ada6cdb7",
   "metadata": {},
   "source": [
    "## Lab. 5:  Esqueleto"
   ]
  },
  {
   "cell_type": "code",
   "execution_count": null,
   "id": "6c71782f",
   "metadata": {},
   "outputs": [],
   "source": [
    "def mDesCyclic( A, b, tol ):\n",
    "    raise Exception('TODO')\n",
    "    return x\n"
   ]
  },
  {
   "cell_type": "code",
   "execution_count": null,
   "id": "b369062f",
   "metadata": {},
   "outputs": [],
   "source": [
    "def mCGv1( A, b, tol=1e-14 ):\n",
    "    raise Exception('TODO')\n",
    "    return x\n"
   ]
  },
  {
   "cell_type": "code",
   "execution_count": null,
   "id": "21e7ad78",
   "metadata": {},
   "outputs": [],
   "source": [
    "def mCG( A, b, tol=1e-14 ):\n",
    "    raise Exception('TODO')\n",
    "    return x\n"
   ]
  },
  {
   "cell_type": "markdown",
   "id": "5fbc25ad",
   "metadata": {},
   "source": [
    "## Experimentos"
   ]
  },
  {
   "cell_type": "markdown",
   "id": "b3ad8df0",
   "metadata": {},
   "source": [
    "### 1. A diagonal descenso ciclico en n pasos"
   ]
  },
  {
   "cell_type": "code",
   "execution_count": null,
   "id": "92ef4134",
   "metadata": {},
   "outputs": [],
   "source": [
    "mDesCyclic(np.diag(np.random.rand(10)), np.ones(10), 1e-10)"
   ]
  },
  {
   "cell_type": "markdown",
   "id": "b7c231f0",
   "metadata": {},
   "source": [
    "### 2. Comparar versiones de CG (con spline matrix)"
   ]
  },
  {
   "cell_type": "code",
   "execution_count": null,
   "id": "5acdff98",
   "metadata": {},
   "outputs": [],
   "source": [
    "# definir A, b\n"
   ]
  },
  {
   "cell_type": "code",
   "execution_count": null,
   "id": "44709aea",
   "metadata": {},
   "outputs": [],
   "source": [
    "x = mCGv1(A, b, 1e-6)\n",
    "print(x, LA.norm(A@x-b, np.inf))"
   ]
  },
  {
   "cell_type": "code",
   "execution_count": null,
   "id": "65e0a766",
   "metadata": {},
   "outputs": [],
   "source": [
    "x = mCG(A, b, 1e-6)\n",
    "print(x, LA.norm(A@x-b, np.inf))"
   ]
  },
  {
   "cell_type": "code",
   "execution_count": null,
   "id": "ecab30af",
   "metadata": {},
   "outputs": [],
   "source": [
    "x = mDesCyclic(A, b, 1e-8)\n",
    "print(x)"
   ]
  },
  {
   "cell_type": "markdown",
   "id": "68f4d2e7",
   "metadata": {},
   "source": [
    "### 3. Eigenvalue clusters"
   ]
  },
  {
   "cell_type": "code",
   "execution_count": null,
   "id": "bfad6de1",
   "metadata": {},
   "outputs": [],
   "source": [
    "def getSymmetricMatrix( d:np.array ):\n",
    "    \"\"\"Generates a symmetric matrix A with eigenvalues given by a vector d\"\"\"\n",
    "    raise Exception('TODO')\n",
    "    return A\n"
   ]
  },
  {
   "cell_type": "code",
   "execution_count": null,
   "id": "70504bdd",
   "metadata": {},
   "outputs": [],
   "source": [
    "d = np.ones(10)\n",
    "A = getSymmetricMatrix( d )\n",
    "x = mCG( A, np.ones(len(d)) )\n"
   ]
  },
  {
   "cell_type": "code",
   "execution_count": null,
   "id": "356ae7df",
   "metadata": {},
   "outputs": [],
   "source": [
    "d = np.hstack( (4*np.ones(5), 6*np.ones(5) ) )\n",
    "A = getSymmetricMatrix( d )\n",
    "x = mCG( A, np.ones(len(d)) )\n"
   ]
  },
  {
   "cell_type": "code",
   "execution_count": null,
   "id": "1328655b",
   "metadata": {},
   "outputs": [],
   "source": [
    "d = np.hstack( (1,2,3*np.ones(20),4,5))\n",
    "A = getSymmetricMatrix( d )\n",
    "x = mCG( A, np.ones(len(d)) )\n"
   ]
  },
  {
   "cell_type": "code",
   "execution_count": null,
   "id": "ac39387a",
   "metadata": {},
   "outputs": [],
   "source": [
    "d = np.hstack( (1, (5.5+1e-3*(np.random.rand(50)-0.5)), 10 ) )\n",
    "A = getSymmetricMatrix( d )\n",
    "x = mCG( A, np.ones(len(d)), tol=1e-6 )\n"
   ]
  },
  {
   "cell_type": "markdown",
   "id": "6b556f23",
   "metadata": {},
   "source": [
    "### 4. Pascal\n",
    "Very bad example, because ill conditioned.\n",
    "\n",
    "Additionally, the smallest eigenvalue is very close to zero which causes the best polynomial to have steep gradients."
   ]
  },
  {
   "cell_type": "code",
   "execution_count": null,
   "id": "aa25a13c",
   "metadata": {},
   "outputs": [],
   "source": [
    "n = 7\n",
    "A = LA.pascal(n).astype(float)\n",
    "b = np.ones(n)\n",
    "x = mCGv1(A, b, 1e-6)\n",
    "print(x)\n",
    "print('error = ', LA.norm(A@x-b, np.inf))\n",
    "x = mCG(A, b, 1e-6)\n",
    "print(x)\n",
    "print('error = ', LA.norm(A@x-b, np.inf))\n",
    "x = mDesCyclic(A, b, 1e-6)\n",
    "print(x)\n",
    "print('error = ', LA.norm(A@x-b, np.inf))\n"
   ]
  },
  {
   "cell_type": "code",
   "execution_count": null,
   "id": "126e2eaf",
   "metadata": {},
   "outputs": [],
   "source": []
  }
 ],
 "metadata": {
  "jupytext": {
   "cell_metadata_filter": "-all",
   "formats": "md,ipynb",
   "notebook_metadata_filter": "-all"
  },
  "kernelspec": {
   "display_name": "Python 3 (ipykernel)",
   "language": "python",
   "name": "python3"
  },
  "language_info": {
   "codemirror_mode": {
    "name": "ipython",
    "version": 3
   },
   "file_extension": ".py",
   "mimetype": "text/x-python",
   "name": "python",
   "nbconvert_exporter": "python",
   "pygments_lexer": "ipython3",
   "version": "3.9.5"
  }
 },
 "nbformat": 4,
 "nbformat_minor": 5
}

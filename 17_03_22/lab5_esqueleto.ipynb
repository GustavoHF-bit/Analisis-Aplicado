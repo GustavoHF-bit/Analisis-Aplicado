{
 "cells": [
  {
   "cell_type": "code",
   "execution_count": 1,
   "id": "7f19f274",
   "metadata": {},
   "outputs": [],
   "source": [
    "import numpy as np\n",
    "import scipy.linalg as LA\n"
   ]
  },
  {
   "cell_type": "markdown",
   "id": "ada6cdb7",
   "metadata": {},
   "source": [
    "## Lab. 5:  Esqueleto"
   ]
  },
  {
   "cell_type": "code",
   "execution_count": 8,
   "id": "6c71782f",
   "metadata": {},
   "outputs": [],
   "source": [
    "def mDesCyclic( A, b, tol=1e-6,maxiter=1000 ):\n",
    "    n=len(b)\n",
    "    assert((n,n) == A.shape), \"incosistent system A no valid\"\n",
    "    x=np.zeros(n)\n",
    "    r=A@x-b\n",
    "    k=0\n",
    "    j=0\n",
    "    for k in range(maxiter):\n",
    "        if LA.norm(r,np.inf)<=tol:\n",
    "            print(\"Happy iteration \",k)\n",
    "            break\n",
    "        alpha=-r[j]/A[j,j]\n",
    "        x[j] += alpha\n",
    "        r += alpha*A[:,j]\n",
    "        j = np.mod(j+1,n)\n",
    "    #raise Exception('TODO')\n",
    "    return x\n"
   ]
  },
  {
   "cell_type": "code",
   "execution_count": null,
   "id": "08a304f3",
   "metadata": {},
   "outputs": [],
   "source": [
    "np.eye(4).shape"
   ]
  },
  {
   "cell_type": "code",
   "execution_count": 26,
   "id": "b369062f",
   "metadata": {},
   "outputs": [],
   "source": [
    "def mCGv1( A, b, tol=1e-14 ):\n",
    "    n=len(b)\n",
    "    x=np.zeros(n)\n",
    "    r=-b\n",
    "    p=-r\n",
    "    for k in range(n):\n",
    "        if LA.norm(r,np.inf)<=tol:\n",
    "            print(\"Happy iteration\",k)\n",
    "            break\n",
    "        \n",
    "        alpha=-r.T@p/(p.T@A@p)\n",
    "        x += alpha*p\n",
    "        r += alpha*(A@p)\n",
    "        beta = r.T@A@p/(p.T@A@p)\n",
    "        p = -r+ beta*p\n",
    "\n",
    "\n",
    "    #raise Exception('TODO')\n",
    "    return x\n"
   ]
  },
  {
   "cell_type": "code",
   "execution_count": 36,
   "id": "21e7ad78",
   "metadata": {},
   "outputs": [],
   "source": [
    "def mCG( A, b, tol=1e-14 ):\n",
    "    n=len(b)\n",
    "    x=np.zeros(n)\n",
    "    r=-b\n",
    "    p=-r\n",
    "    for k in range(n):\n",
    "        if LA.norm(r,np.inf)<=tol:\n",
    "            print(\"Happy iteration\",k)\n",
    "            break\n",
    "\n",
    "        rsq=r.T@r\n",
    "        alpha=rsq/(p.T@A@p)\n",
    "        x += alpha*p\n",
    "        r += alpha*(A@p)\n",
    "        beta = r.T@r/rsq\n",
    "        p = -r+ beta*p\n",
    "    #raise Exception('TODO')\n",
    "    return x\n"
   ]
  },
  {
   "cell_type": "markdown",
   "id": "5fbc25ad",
   "metadata": {},
   "source": [
    "## Experimentos"
   ]
  },
  {
   "cell_type": "markdown",
   "id": "b3ad8df0",
   "metadata": {},
   "source": [
    "### 1. A diagonal descenso ciclico en n pasos"
   ]
  },
  {
   "cell_type": "code",
   "execution_count": 9,
   "id": "92ef4134",
   "metadata": {},
   "outputs": [
    {
     "name": "stdout",
     "output_type": "stream",
     "text": [
      "Happy iteration  10\n"
     ]
    },
    {
     "data": {
      "text/plain": [
       "array([1.06371524, 1.81653365, 3.65268099, 7.35431483, 1.13014471,\n",
       "       1.17147004, 1.83972472, 1.11020944, 2.85650396, 1.47617002])"
      ]
     },
     "execution_count": 9,
     "metadata": {},
     "output_type": "execute_result"
    }
   ],
   "source": [
    "mDesCyclic(np.diag(np.random.rand(10)), np.ones(10), 1e-10)"
   ]
  },
  {
   "cell_type": "markdown",
   "id": "b7c231f0",
   "metadata": {},
   "source": [
    "### 2. Comparar versiones de CG (con spline matrix)"
   ]
  },
  {
   "cell_type": "code",
   "execution_count": 15,
   "id": "5acdff98",
   "metadata": {},
   "outputs": [
    {
     "name": "stdout",
     "output_type": "stream",
     "text": [
      "[[2. 1. 0. ... 0. 0. 0.]\n",
      " [1. 2. 1. ... 0. 0. 0.]\n",
      " [0. 1. 2. ... 0. 0. 0.]\n",
      " ...\n",
      " [0. 0. 0. ... 2. 1. 0.]\n",
      " [0. 0. 0. ... 1. 2. 1.]\n",
      " [0. 0. 0. ... 0. 1. 2.]]\n"
     ]
    }
   ],
   "source": [
    "# definir A, b\n",
    "n=50\n",
    "A=np.diag(2*np.ones(n))+np.diag(np.ones(n-1),-1)+np.diag(np.ones(n-1),1)\n",
    "b=np.ones(n)\n",
    "#?np.diag\n",
    "print(A)"
   ]
  },
  {
   "cell_type": "code",
   "execution_count": 21,
   "id": "44709aea",
   "metadata": {},
   "outputs": [
    {
     "name": "stdout",
     "output_type": "stream",
     "text": [
      "Happy iteration 25\n",
      "[0.49019608 0.01960784 0.47058824 0.03921569 0.45098039 0.05882353\n",
      " 0.43137255 0.07843137 0.41176471 0.09803922 0.39215686 0.11764706\n",
      " 0.37254902 0.1372549  0.35294118 0.15686275 0.33333333 0.17647059\n",
      " 0.31372549 0.19607843 0.29411765 0.21568627 0.2745098  0.23529412\n",
      " 0.25490196 0.25490196 0.23529412 0.2745098  0.21568627 0.29411765\n",
      " 0.19607843 0.31372549 0.17647059 0.33333333 0.15686275 0.35294118\n",
      " 0.1372549  0.37254902 0.11764706 0.39215686 0.09803922 0.41176471\n",
      " 0.07843137 0.43137255 0.05882353 0.45098039 0.03921569 0.47058824\n",
      " 0.01960784 0.49019608] 2.886579864025407e-15\n"
     ]
    }
   ],
   "source": [
    "x=mCGv1(A, b, 1e-6)\n",
    "print(x, LA.norm(A@x-b, np.inf))"
   ]
  },
  {
   "cell_type": "code",
   "execution_count": 38,
   "id": "65e0a766",
   "metadata": {},
   "outputs": [
    {
     "name": "stdout",
     "output_type": "stream",
     "text": [
      "[ 0.99787546  0.01107959 -0.02450102  0.02929108 -0.01991196  0.00728348\n",
      " -0.0011183 ] 2.4049536738512955e-05\n"
     ]
    }
   ],
   "source": [
    "x = mCG(A, b, 1e-6)\n",
    "print(x, LA.norm(A@x-b, np.inf))"
   ]
  },
  {
   "cell_type": "code",
   "execution_count": 35,
   "id": "ecab30af",
   "metadata": {},
   "outputs": [
    {
     "name": "stdout",
     "output_type": "stream",
     "text": [
      "Happy iteration  1\n",
      "[1. 0. 0. 0. 0. 0. 0.]\n"
     ]
    }
   ],
   "source": [
    "x = mDesCyclic(A, b, 1e-8)\n",
    "print(x)"
   ]
  },
  {
   "cell_type": "markdown",
   "id": "68f4d2e7",
   "metadata": {},
   "source": [
    "### 3. Eigenvalue clusters"
   ]
  },
  {
   "cell_type": "code",
   "execution_count": 27,
   "id": "bfad6de1",
   "metadata": {},
   "outputs": [],
   "source": [
    "def getSymmetricMatrix( d:np.array ):\n",
    "    \"\"\"Generates a symmetric matrix A with eigenvalues given by a vector d\"\"\"\n",
    "    assert(len(d.shape)==1),\"d must be a one dimensional array\"\n",
    "    n=len(d)\n",
    "    W=np.random.rand(n,n)\n",
    "    Q , _ = LA.qr(W)\n",
    "    A=Q @ np.diag(d) @ Q.T \n",
    "    #raise Exception('TODO')\n",
    "    return A\n"
   ]
  },
  {
   "cell_type": "code",
   "execution_count": 39,
   "id": "70504bdd",
   "metadata": {},
   "outputs": [
    {
     "name": "stdout",
     "output_type": "stream",
     "text": [
      "Happy iteration 1\n"
     ]
    },
    {
     "data": {
      "text/plain": [
       "array([1., 1., 1., 1., 1., 1., 1., 1., 1., 1.])"
      ]
     },
     "execution_count": 39,
     "metadata": {},
     "output_type": "execute_result"
    }
   ],
   "source": [
    "d = np.ones(10)\n",
    "A = getSymmetricMatrix( d )\n",
    "x = mCG( A, np.ones(len(d)) )\n",
    "x\n"
   ]
  },
  {
   "cell_type": "code",
   "execution_count": 40,
   "id": "356ae7df",
   "metadata": {},
   "outputs": [
    {
     "name": "stdout",
     "output_type": "stream",
     "text": [
      "Happy iteration 2\n"
     ]
    },
    {
     "data": {
      "text/plain": [
       "array([0.25757309, 0.24138561, 0.24188828, 0.25520232, 0.25554551,\n",
       "       0.24059449, 0.25469405, 0.26830571, 0.2405315 , 0.22998909])"
      ]
     },
     "execution_count": 40,
     "metadata": {},
     "output_type": "execute_result"
    }
   ],
   "source": [
    "d = np.hstack( (4*np.ones(5), 6*np.ones(5) ) )\n",
    "A = getSymmetricMatrix( d )\n",
    "x = mCG( A, np.ones(len(d)) )\n",
    "x\n"
   ]
  },
  {
   "cell_type": "code",
   "execution_count": 41,
   "id": "1328655b",
   "metadata": {},
   "outputs": [
    {
     "name": "stdout",
     "output_type": "stream",
     "text": [
      "Happy iteration 5\n"
     ]
    },
    {
     "data": {
      "text/plain": [
       "array([1.2275124 , 0.49787468, 0.63293355, 0.44979834, 0.93604833,\n",
       "       0.56439047, 0.88612772, 0.50466632, 1.0448382 , 0.98311936,\n",
       "       0.69243366, 1.28998358, 0.76603592, 0.58264015, 1.3247675 ,\n",
       "       0.96832155, 0.90248354, 0.93893672, 0.50650406, 0.86834042,\n",
       "       1.24110145, 1.05143002, 0.86079987, 0.83487281])"
      ]
     },
     "execution_count": 41,
     "metadata": {},
     "output_type": "execute_result"
    }
   ],
   "source": [
    "d = np.hstack( (1,2,3*np.ones(20),4,5))\n",
    "A = getSymmetricMatrix( d )\n",
    "x = mCG( A, np.ones(len(d)) )\n",
    "x\n"
   ]
  },
  {
   "cell_type": "code",
   "execution_count": null,
   "id": "ac39387a",
   "metadata": {},
   "outputs": [],
   "source": [
    "d = np.hstack( (1, (5.5+1e-3*(np.random.rand(50)-0.5)), 10 ) )\n",
    "A = getSymmetricMatrix( d )\n",
    "x = mCG( A, np.ones(len(d)), tol=1e-6 )\n"
   ]
  },
  {
   "cell_type": "markdown",
   "id": "6b556f23",
   "metadata": {},
   "source": [
    "### 4. Pascal\n",
    "Very bad example, because ill conditioned.\n",
    "\n",
    "Additionally, the smallest eigenvalue is very close to zero which causes the best polynomial to have steep gradients."
   ]
  },
  {
   "cell_type": "code",
   "execution_count": 42,
   "id": "aa25a13c",
   "metadata": {},
   "outputs": [
    {
     "name": "stdout",
     "output_type": "stream",
     "text": [
      "[ 0.99787546  0.0110796  -0.02450101  0.02929109 -0.01991195  0.00728348\n",
      " -0.00111831]\n",
      "error =  2.436546928796801e-05\n",
      "[ 0.99787546  0.01107959 -0.02450102  0.02929108 -0.01991196  0.00728348\n",
      " -0.0011183 ]\n",
      "error =  2.4049536738512955e-05\n",
      "Happy iteration  1\n",
      "[1. 0. 0. 0. 0. 0. 0.]\n",
      "error =  0.0\n"
     ]
    }
   ],
   "source": [
    "n = 7\n",
    "A = LA.pascal(n).astype(float)\n",
    "b = np.ones(n)\n",
    "x = mCGv1(A, b, 1e-6)\n",
    "print(x)\n",
    "print('error = ', LA.norm(A@x-b, np.inf))\n",
    "x = mCG(A, b, 1e-6)\n",
    "print(x)\n",
    "print('error = ', LA.norm(A@x-b, np.inf))\n",
    "x = mDesCyclic(A, b, 1e-6)\n",
    "print(x)\n",
    "print('error = ', LA.norm(A@x-b, np.inf))\n"
   ]
  },
  {
   "cell_type": "code",
   "execution_count": null,
   "id": "126e2eaf",
   "metadata": {},
   "outputs": [],
   "source": []
  }
 ],
 "metadata": {
  "jupytext": {
   "cell_metadata_filter": "-all",
   "formats": "md,ipynb",
   "notebook_metadata_filter": "-all"
  },
  "kernelspec": {
   "display_name": "Python 3 (ipykernel)",
   "language": "python",
   "name": "python3"
  },
  "language_info": {
   "codemirror_mode": {
    "name": "ipython",
    "version": 3
   },
   "file_extension": ".py",
   "mimetype": "text/x-python",
   "name": "python",
   "nbconvert_exporter": "python",
   "pygments_lexer": "ipython3",
   "version": "3.10.2"
  }
 },
 "nbformat": 4,
 "nbformat_minor": 5
}
